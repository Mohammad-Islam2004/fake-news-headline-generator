{
 "cells": [
  {
   "cell_type": "markdown",
   "id": "563902e3",
   "metadata": {},
   "source": [
    "import module"
   ]
  },
  {
   "cell_type": "code",
   "execution_count": 1,
   "id": "4d364feb",
   "metadata": {},
   "outputs": [],
   "source": [
    "import random"
   ]
  },
  {
   "cell_type": "markdown",
   "id": "433ef1ac",
   "metadata": {},
   "source": [
    "list of subjects, actions, places or objects"
   ]
  },
  {
   "cell_type": "code",
   "execution_count": 2,
   "id": "282c2289",
   "metadata": {},
   "outputs": [],
   "source": [
    "subjects = [\n",
    "    \"Shahrukh Khan\",\n",
    "    \"Virat Kohli\",\n",
    "    \"Nirmala Sitaraman\",\n",
    "    \"Prime Minister Modi\",\n",
    "    \"A cat\", \"A group of monkeys\",\n",
    "    \"Auto driver from jaipur\"\n",
    "]\n",
    "\n",
    "actions = [\n",
    "    \"launches\",\n",
    "    \"cancels\",\n",
    "    \"dances with\",\n",
    "    \"eats\",\n",
    "    \"declares war on\",\n",
    "    \"orders\",\n",
    "    \"celebrates\"\n",
    "]\n",
    "\n",
    "places_and_objects = [\n",
    "    \"at Red Fort\",\n",
    "    \"in local train\",\n",
    "    \"a plate of samosa\",\n",
    "    \"inside parliament\",\n",
    "    \"at Ganga Ghat\",\n",
    "    \"during IPL match\",\n",
    "    \"at India Gate\"\n",
    "]"
   ]
  },
  {
   "cell_type": "markdown",
   "id": "0ab04d17",
   "metadata": {},
   "source": [
    "headline generation loop"
   ]
  },
  {
   "cell_type": "code",
   "execution_count": 7,
   "id": "c1f12b1e",
   "metadata": {},
   "outputs": [
    {
     "name": "stdout",
     "output_type": "stream",
     "text": [
      "\n",
      "Breaking News : Shahrukh Khan launches during IPL match.\n",
      "\n",
      "Breaking News : A group of monkeys eats a plate of samosa.\n",
      "\n",
      "Breaking News : Prime Minister Modi eats at India Gate.\n",
      "\n",
      "Breaking News : A cat celebrates at Red Fort.\n",
      "\n",
      "Breaking News : A group of monkeys launches inside parliament.\n",
      "\n",
      "Breaking News : A group of monkeys dances with in local train.\n",
      "\n",
      "Thanks !! for using fake news headline..\n"
     ]
    }
   ],
   "source": [
    "while True :\n",
    "  subject = random.choice(subjects)\n",
    "  action = random.choice(actions)\n",
    "  place_and_object = random.choice(places_and_objects)\n",
    "\n",
    "  headline = f\"Breaking News : {subject} {action} {place_and_object}.\"\n",
    "  print(\"\\n\" + headline)\n",
    "\n",
    "  user_input = input(\"Do you want another fake headline? (yes/no) : \").strip().lower()\n",
    "  if user_input == \"no\" :\n",
    "    break\n",
    "\n",
    "# If the user wants to exit, we break the loop\n",
    "print(\"\\nThanks !! for using fake news headline..\")"
   ]
  },
  {
   "cell_type": "code",
   "execution_count": null,
   "id": "a1d110c1",
   "metadata": {},
   "outputs": [],
   "source": []
  }
 ],
 "metadata": {
  "kernelspec": {
   "display_name": "Python 3",
   "language": "python",
   "name": "python3"
  },
  "language_info": {
   "codemirror_mode": {
    "name": "ipython",
    "version": 3
   },
   "file_extension": ".py",
   "mimetype": "text/x-python",
   "name": "python",
   "nbconvert_exporter": "python",
   "pygments_lexer": "ipython3",
   "version": "3.12.6"
  }
 },
 "nbformat": 4,
 "nbformat_minor": 5
}
